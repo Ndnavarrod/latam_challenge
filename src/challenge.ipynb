{
 "cells": [
  {
   "cell_type": "markdown",
   "metadata": {},
   "source": [
    "En este archivo puedes escribir lo que estimes conveniente. Te recomendamos detallar tu solución y todas las suposiciones que estás considerando. Aquí puedes ejecutar las funciones que definiste en los otros archivos de la carpeta src, medir el tiempo, memoria, etc."
   ]
  },
  {
   "cell_type": "code",
   "execution_count": 76,
   "metadata": {},
   "outputs": [],
   "source": [
    "file_path = \"farmers-protest-tweets-2021-2-4.json\""
   ]
  },
  {
   "cell_type": "code",
   "execution_count": 77,
   "metadata": {},
   "outputs": [
    {
     "data": {
      "text/plain": [
       "[('2021-02-18', 'neetuanjle_nitu'),\n",
       " ('2021-02-13', 'MaanDee08215437'),\n",
       " ('2021-02-17', 'RaaJVinderkaur'),\n",
       " ('2021-02-16', 'jot__b'),\n",
       " ('2021-02-20', 'MangalJ23056160'),\n",
       " ('2021-02-14', 'rebelpacifist'),\n",
       " ('2021-02-15', 'jot__b'),\n",
       " ('2021-02-23', 'Surrypuria'),\n",
       " ('2021-02-19', 'Preetm91'),\n",
       " ('2021-02-12', 'RanbirS00614606')]"
      ]
     },
     "execution_count": 77,
     "metadata": {},
     "output_type": "execute_result"
    }
   ],
   "source": [
    "from pyspark.sql import SparkSession\n",
    "spark = SparkSession.builder.appName('sparkdf').getOrCreate()\n",
    "from q1_time import q1_time\n",
    "q1_time(file_path)"
   ]
  },
  {
   "cell_type": "code",
   "execution_count": null,
   "metadata": {},
   "outputs": [
    {
     "name": "stdout",
     "output_type": "stream",
     "text": [
      "farmers-protest-tweets-2021-2-4.json\n"
     ]
    }
   ],
   "source": [
    "print(file_path)"
   ]
  }
 ],
 "metadata": {
  "kernelspec": {
   "display_name": "Python 3",
   "language": "python",
   "name": "python3"
  },
  "language_info": {
   "codemirror_mode": {
    "name": "ipython",
    "version": 3
   },
   "file_extension": ".py",
   "mimetype": "text/x-python",
   "name": "python",
   "nbconvert_exporter": "python",
   "pygments_lexer": "ipython3",
   "version": "3.9.13"
  },
  "orig_nbformat": 4
 },
 "nbformat": 4,
 "nbformat_minor": 2
}
